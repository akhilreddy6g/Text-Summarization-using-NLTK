{
 "cells": [
  {
   "cell_type": "markdown",
   "metadata": {},
   "source": [
    "## Loading the Text"
   ]
  },
  {
   "cell_type": "code",
   "execution_count": 1,
   "metadata": {},
   "outputs": [],
   "source": [
    "#A Short Tale\n",
    "text = \"\"\"Confusion and mayhem had subsided. In his thoughts, everything was calm and clear. He had been filled with sorrow, self-loathing, and despair only hours before. But now, liberated from its shackles, the lycanthropic curse had taken charge, eager to make up for a lost time. The garments were readily torn off his body by jagged claws. They were no longer useful to him. He'd appeared near a little, shallow river that had been painted silver by the bright sky. It was freezing outside, the dead of winter, and his breath was misting in front of his eyes. He was unconcerned about the weather. This body was designed to last. His long, wiry limbs were incredibly strong. He felt a pulsing sensation across his entire body. It was time to let go of electrically charged energy. All living animals within running distance were detected by his enhanced senses. No one could stand up to him, no one could stand up to him. All would flee in the face of him. It would, however, make no difference. This was going to be a bloody night. He flung his head back and let out a hysterical, elated, and fervent cry. He had the entire night to himself. The full moon had appeared, and the pursuit had begun\"\"\""
   ]
  },
  {
   "cell_type": "code",
   "execution_count": 2,
   "metadata": {},
   "outputs": [
    {
     "data": {
      "text/plain": [
       "1191"
      ]
     },
     "execution_count": 2,
     "metadata": {},
     "output_type": "execute_result"
    }
   ],
   "source": [
    "len(text)"
   ]
  },
  {
   "cell_type": "code",
   "execution_count": 3,
   "metadata": {},
   "outputs": [
    {
     "name": "stdout",
     "output_type": "stream",
     "text": [
      "Confusion and mayhem had subsided. In his thoughts, everything was calm and clear. He had been filled with sorrow, self-loathing, and despair only hours before. But now, liberated from its shackles, the lycanthropic curse had taken charge, eager to make up for a lost time. The garments were readily torn off his body by jagged claws. They were no longer useful to him. He'd appeared near a little, shallow river that had been painted silver by the bright sky. It was freezing outside, the dead of winter, and his breath was misting in front of his eyes. He was unconcerned about the weather. This body was designed to last. His long, wiry limbs were incredibly strong. He felt a pulsing sensation across his entire body. It was time to let go of electrically charged energy. All living animals within running distance were detected by his enhanced senses. No one could stand up to him, no one could stand up to him. All would flee in the face of him. It would, however, make no difference. This was going to be a bloody night. He flung his head back and let out a hysterical, elated, and fervent cry. He had the entire night to himself. The full moon had appeared, and the pursuit had begun\n"
     ]
    }
   ],
   "source": [
    "print(text)"
   ]
  },
  {
   "cell_type": "markdown",
   "metadata": {},
   "source": [
    "## Loading Necessary Libraries"
   ]
  },
  {
   "cell_type": "code",
   "execution_count": 4,
   "metadata": {},
   "outputs": [],
   "source": [
    "import spacy\n",
    "from spacy.lang.en.stop_words import STOP_WORDS\n",
    "from string import punctuation"
   ]
  },
  {
   "cell_type": "code",
   "execution_count": 5,
   "metadata": {},
   "outputs": [
    {
     "name": "stdout",
     "output_type": "stream",
     "text": [
      "['Confusion', 'and', 'mayhem', 'had', 'subsided', '.', 'In', 'his', 'thoughts', ',', 'everything', 'was', 'calm', 'and', 'clear', '.', 'He', 'had', 'been', 'filled', 'with', 'sorrow', ',', 'self', '-', 'loathing', ',', 'and', 'despair', 'only', 'hours', 'before', '.', 'But', 'now', ',', 'liberated', 'from', 'its', 'shackles', ',', 'the', 'lycanthropic', 'curse', 'had', 'taken', 'charge', ',', 'eager', 'to', 'make', 'up', 'for', 'a', 'lost', 'time', '.', 'The', 'garments', 'were', 'readily', 'torn', 'off', 'his', 'body', 'by', 'jagged', 'claws', '.', 'They', 'were', 'no', 'longer', 'useful', 'to', 'him', '.', 'He', \"'d\", 'appeared', 'near', 'a', 'little', ',', 'shallow', 'river', 'that', 'had', 'been', 'painted', 'silver', 'by', 'the', 'bright', 'sky', '.', 'It', 'was', 'freezing', 'outside', ',', 'the', 'dead', 'of', 'winter', ',', 'and', 'his', 'breath', 'was', 'misting', 'in', 'front', 'of', 'his', 'eyes', '.', 'He', 'was', 'unconcerned', 'about', 'the', 'weather', '.', 'This', 'body', 'was', 'designed', 'to', 'last', '.', 'His', 'long', ',', 'wiry', 'limbs', 'were', 'incredibly', 'strong', '.', 'He', 'felt', 'a', 'pulsing', 'sensation', 'across', 'his', 'entire', 'body', '.', 'It', 'was', 'time', 'to', 'let', 'go', 'of', 'electrically', 'charged', 'energy', '.', 'All', 'living', 'animals', 'within', 'running', 'distance', 'were', 'detected', 'by', 'his', 'enhanced', 'senses', '.', 'No', 'one', 'could', 'stand', 'up', 'to', 'him', ',', 'no', 'one', 'could', 'stand', 'up', 'to', 'him', '.', 'All', 'would', 'flee', 'in', 'the', 'face', 'of', 'him', '.', 'It', 'would', ',', 'however', ',', 'make', 'no', 'difference', '.', 'This', 'was', 'going', 'to', 'be', 'a', 'bloody', 'night', '.', 'He', 'flung', 'his', 'head', 'back', 'and', 'let', 'out', 'a', 'hysterical', ',', 'elated', ',', 'and', 'fervent', 'cry', '.', 'He', 'had', 'the', 'entire', 'night', 'to', 'himself', '.', 'The', 'full', 'moon', 'had', 'appeared', ',', 'and', 'the', 'pursuit', 'had', 'begun']\n"
     ]
    }
   ],
   "source": [
    "nlp = spacy.load('en_core_web_sm')\n",
    "doc = nlp(text)\n",
    "tokens = [token.text for token in doc]\n",
    "print(tokens)"
   ]
  },
  {
   "cell_type": "code",
   "execution_count": 6,
   "metadata": {},
   "outputs": [],
   "source": [
    "punctuation = punctuation + '\\n'"
   ]
  },
  {
   "cell_type": "markdown",
   "metadata": {},
   "source": [
    "# Text Cleaning"
   ]
  },
  {
   "cell_type": "code",
   "execution_count": 7,
   "metadata": {},
   "outputs": [],
   "source": [
    "word_freq = {}\n",
    "stop_words = list(STOP_WORDS)\n",
    "for word in doc:\n",
    "    if word.text.lower() not in stop_words:\n",
    "        if word.text.lower() not in punctuation:\n",
    "            if word.text not in word_freq.keys():\n",
    "                word_freq[word.text] = 1\n",
    "            else:\n",
    "                word_freq[word.text] += 1\n"
   ]
  },
  {
   "cell_type": "code",
   "execution_count": 8,
   "metadata": {
    "scrolled": true
   },
   "outputs": [
    {
     "name": "stdout",
     "output_type": "stream",
     "text": [
      "{'Confusion': 1, 'mayhem': 1, 'subsided': 1, 'thoughts': 1, 'calm': 1, 'clear': 1, 'filled': 1, 'sorrow': 1, 'self': 1, 'loathing': 1, 'despair': 1, 'hours': 1, 'liberated': 1, 'shackles': 1, 'lycanthropic': 1, 'curse': 1, 'taken': 1, 'charge': 1, 'eager': 1, 'lost': 1, 'time': 2, 'garments': 1, 'readily': 1, 'torn': 1, 'body': 3, 'jagged': 1, 'claws': 1, 'longer': 1, 'useful': 1, 'appeared': 2, 'near': 1, 'little': 1, 'shallow': 1, 'river': 1, 'painted': 1, 'silver': 1, 'bright': 1, 'sky': 1, 'freezing': 1, 'outside': 1, 'dead': 1, 'winter': 1, 'breath': 1, 'misting': 1, 'eyes': 1, 'unconcerned': 1, 'weather': 1, 'designed': 1, 'long': 1, 'wiry': 1, 'limbs': 1, 'incredibly': 1, 'strong': 1, 'felt': 1, 'pulsing': 1, 'sensation': 1, 'entire': 2, 'let': 2, 'electrically': 1, 'charged': 1, 'energy': 1, 'living': 1, 'animals': 1, 'running': 1, 'distance': 1, 'detected': 1, 'enhanced': 1, 'senses': 1, 'stand': 2, 'flee': 1, 'face': 1, 'difference': 1, 'going': 1, 'bloody': 1, 'night': 2, 'flung': 1, 'head': 1, 'hysterical': 1, 'elated': 1, 'fervent': 1, 'cry': 1, 'moon': 1, 'pursuit': 1, 'begun': 1}\n"
     ]
    }
   ],
   "source": [
    "print(word_freq)"
   ]
  },
  {
   "cell_type": "code",
   "execution_count": 9,
   "metadata": {},
   "outputs": [
    {
     "data": {
      "text/plain": [
       "3"
      ]
     },
     "execution_count": 9,
     "metadata": {},
     "output_type": "execute_result"
    }
   ],
   "source": [
    "max_freq = max(word_freq.values())\n",
    "max_freq"
   ]
  },
  {
   "cell_type": "code",
   "execution_count": 10,
   "metadata": {},
   "outputs": [
    {
     "name": "stdout",
     "output_type": "stream",
     "text": [
      "{'Confusion': 0.3333333333333333, 'mayhem': 0.3333333333333333, 'subsided': 0.3333333333333333, 'thoughts': 0.3333333333333333, 'calm': 0.3333333333333333, 'clear': 0.3333333333333333, 'filled': 0.3333333333333333, 'sorrow': 0.3333333333333333, 'self': 0.3333333333333333, 'loathing': 0.3333333333333333, 'despair': 0.3333333333333333, 'hours': 0.3333333333333333, 'liberated': 0.3333333333333333, 'shackles': 0.3333333333333333, 'lycanthropic': 0.3333333333333333, 'curse': 0.3333333333333333, 'taken': 0.3333333333333333, 'charge': 0.3333333333333333, 'eager': 0.3333333333333333, 'lost': 0.3333333333333333, 'time': 0.6666666666666666, 'garments': 0.3333333333333333, 'readily': 0.3333333333333333, 'torn': 0.3333333333333333, 'body': 1.0, 'jagged': 0.3333333333333333, 'claws': 0.3333333333333333, 'longer': 0.3333333333333333, 'useful': 0.3333333333333333, 'appeared': 0.6666666666666666, 'near': 0.3333333333333333, 'little': 0.3333333333333333, 'shallow': 0.3333333333333333, 'river': 0.3333333333333333, 'painted': 0.3333333333333333, 'silver': 0.3333333333333333, 'bright': 0.3333333333333333, 'sky': 0.3333333333333333, 'freezing': 0.3333333333333333, 'outside': 0.3333333333333333, 'dead': 0.3333333333333333, 'winter': 0.3333333333333333, 'breath': 0.3333333333333333, 'misting': 0.3333333333333333, 'eyes': 0.3333333333333333, 'unconcerned': 0.3333333333333333, 'weather': 0.3333333333333333, 'designed': 0.3333333333333333, 'long': 0.3333333333333333, 'wiry': 0.3333333333333333, 'limbs': 0.3333333333333333, 'incredibly': 0.3333333333333333, 'strong': 0.3333333333333333, 'felt': 0.3333333333333333, 'pulsing': 0.3333333333333333, 'sensation': 0.3333333333333333, 'entire': 0.6666666666666666, 'let': 0.6666666666666666, 'electrically': 0.3333333333333333, 'charged': 0.3333333333333333, 'energy': 0.3333333333333333, 'living': 0.3333333333333333, 'animals': 0.3333333333333333, 'running': 0.3333333333333333, 'distance': 0.3333333333333333, 'detected': 0.3333333333333333, 'enhanced': 0.3333333333333333, 'senses': 0.3333333333333333, 'stand': 0.6666666666666666, 'flee': 0.3333333333333333, 'face': 0.3333333333333333, 'difference': 0.3333333333333333, 'going': 0.3333333333333333, 'bloody': 0.3333333333333333, 'night': 0.6666666666666666, 'flung': 0.3333333333333333, 'head': 0.3333333333333333, 'hysterical': 0.3333333333333333, 'elated': 0.3333333333333333, 'fervent': 0.3333333333333333, 'cry': 0.3333333333333333, 'moon': 0.3333333333333333, 'pursuit': 0.3333333333333333, 'begun': 0.3333333333333333}\n"
     ]
    }
   ],
   "source": [
    "for word in word_freq.keys():\n",
    "    word_freq[word] = word_freq[word]/max_freq\n",
    "print(word_freq)"
   ]
  },
  {
   "cell_type": "markdown",
   "metadata": {},
   "source": [
    "## Sentence Tokenization"
   ]
  },
  {
   "cell_type": "code",
   "execution_count": 11,
   "metadata": {
    "scrolled": true
   },
   "outputs": [
    {
     "name": "stdout",
     "output_type": "stream",
     "text": [
      "[Confusion and mayhem had subsided., In his thoughts, everything was calm and clear., He had been filled with sorrow, self-loathing, and despair only hours before., But now, liberated from its shackles, the lycanthropic curse had taken charge, eager to make up for a lost time., The garments were readily torn off his body by jagged claws., They were no longer useful to him., He'd appeared near a little, shallow river that had been painted silver by the bright sky., It was freezing outside, the dead of winter, and his breath was misting in front of his eyes., He was unconcerned about the weather., This body was designed to last., His long, wiry limbs were incredibly strong., He felt a pulsing sensation across his entire body., It was time to let go of electrically charged energy., All living animals within running distance were detected by his enhanced senses., No one could stand up to him, no one could stand up to him., All would flee in the face of him., It would, however, make no difference., This was going to be a bloody night., He flung his head back and let out a hysterical, elated, and fervent cry., He had the entire night to himself., The full moon had appeared, and the pursuit had begun]\n",
      "21\n"
     ]
    }
   ],
   "source": [
    "sent_tokens = [sent for sent in doc.sents]\n",
    "print(sent_tokens)\n",
    "print(len(sent_tokens))"
   ]
  },
  {
   "cell_type": "code",
   "execution_count": 12,
   "metadata": {},
   "outputs": [
    {
     "name": "stdout",
     "output_type": "stream",
     "text": [
      "{Confusion and mayhem had subsided.: 0.6666666666666666, In his thoughts, everything was calm and clear.: 1.0, He had been filled with sorrow, self-loathing, and despair only hours before.: 1.9999999999999998, But now, liberated from its shackles, the lycanthropic curse had taken charge, eager to make up for a lost time.: 3.333333333333333, The garments were readily torn off his body by jagged claws.: 2.666666666666667, They were no longer useful to him.: 0.6666666666666666, He'd appeared near a little, shallow river that had been painted silver by the bright sky.: 3.3333333333333335, It was freezing outside, the dead of winter, and his breath was misting in front of his eyes.: 2.333333333333333, He was unconcerned about the weather.: 0.6666666666666666, This body was designed to last.: 1.3333333333333333, His long, wiry limbs were incredibly strong.: 1.6666666666666665, He felt a pulsing sensation across his entire body.: 2.6666666666666665, It was time to let go of electrically charged energy.: 2.333333333333333, All living animals within running distance were detected by his enhanced senses.: 2.333333333333333, No one could stand up to him, no one could stand up to him.: 1.3333333333333333, All would flee in the face of him.: 0.6666666666666666, It would, however, make no difference.: 0.3333333333333333, This was going to be a bloody night.: 1.3333333333333333, He flung his head back and let out a hysterical, elated, and fervent cry.: 2.6666666666666665, He had the entire night to himself.: 1.3333333333333333, The full moon had appeared, and the pursuit had begun: 1.6666666666666665}\n"
     ]
    }
   ],
   "source": [
    "sent_score = {}\n",
    "for sent in sent_tokens:\n",
    "    for word in sent:\n",
    "        if word.text.lower() in word_freq.keys():\n",
    "            if sent not in sent_score.keys():\n",
    "                sent_score[sent] = word_freq[word.text.lower()]\n",
    "            else:\n",
    "                sent_score[sent] += word_freq[word.text.lower()]\n",
    "                #sums up the frequency of all the words present in the sentence\n",
    "print(sent_score)               "
   ]
  },
  {
   "cell_type": "code",
   "execution_count": 13,
   "metadata": {},
   "outputs": [
    {
     "data": {
      "text/plain": [
       "21"
      ]
     },
     "execution_count": 13,
     "metadata": {},
     "output_type": "execute_result"
    }
   ],
   "source": [
    "k = len(sent_score)\n",
    "k"
   ]
  },
  {
   "cell_type": "markdown",
   "metadata": {},
   "source": [
    "## Selecting 30% Sentences with Maximum Scores"
   ]
  },
  {
   "cell_type": "code",
   "execution_count": 14,
   "metadata": {},
   "outputs": [],
   "source": [
    "from heapq import nlargest\n",
    "summary = nlargest(n = round(0.3*k),iterable = sent_score, key = sent_score.get)"
   ]
  },
  {
   "cell_type": "code",
   "execution_count": 15,
   "metadata": {},
   "outputs": [
    {
     "data": {
      "text/plain": [
       "[He'd appeared near a little, shallow river that had been painted silver by the bright sky.,\n",
       " But now, liberated from its shackles, the lycanthropic curse had taken charge, eager to make up for a lost time.,\n",
       " The garments were readily torn off his body by jagged claws.,\n",
       " He felt a pulsing sensation across his entire body.,\n",
       " He flung his head back and let out a hysterical, elated, and fervent cry.,\n",
       " It was freezing outside, the dead of winter, and his breath was misting in front of his eyes.]"
      ]
     },
     "execution_count": 15,
     "metadata": {},
     "output_type": "execute_result"
    }
   ],
   "source": [
    "summary"
   ]
  },
  {
   "cell_type": "code",
   "execution_count": 16,
   "metadata": {},
   "outputs": [
    {
     "data": {
      "text/plain": [
       "6"
      ]
     },
     "execution_count": 16,
     "metadata": {},
     "output_type": "execute_result"
    }
   ],
   "source": [
    "len(summary)"
   ]
  },
  {
   "cell_type": "code",
   "execution_count": 17,
   "metadata": {},
   "outputs": [
    {
     "name": "stdout",
     "output_type": "stream",
     "text": [
      "[\"He'd appeared near a little, shallow river that had been painted silver by the bright sky.\", 'But now, liberated from its shackles, the lycanthropic curse had taken charge, eager to make up for a lost time.', 'The garments were readily torn off his body by jagged claws.', 'He felt a pulsing sensation across his entire body.', 'He flung his head back and let out a hysterical, elated, and fervent cry.', 'It was freezing outside, the dead of winter, and his breath was misting in front of his eyes.']\n"
     ]
    }
   ],
   "source": [
    "final_summary = [word.text for word in summary]\n",
    "print(final_summary)"
   ]
  },
  {
   "cell_type": "code",
   "execution_count": 18,
   "metadata": {},
   "outputs": [],
   "source": [
    "S_Story = \" \".join(final_summary)"
   ]
  },
  {
   "cell_type": "code",
   "execution_count": 19,
   "metadata": {},
   "outputs": [
    {
     "name": "stdout",
     "output_type": "stream",
     "text": [
      "He'd appeared near a little, shallow river that had been painted silver by the bright sky. But now, liberated from its shackles, the lycanthropic curse had taken charge, eager to make up for a lost time. The garments were readily torn off his body by jagged claws. He felt a pulsing sensation across his entire body. He flung his head back and let out a hysterical, elated, and fervent cry. It was freezing outside, the dead of winter, and his breath was misting in front of his eyes.\n"
     ]
    }
   ],
   "source": [
    "print(S_Story)"
   ]
  },
  {
   "cell_type": "code",
   "execution_count": 20,
   "metadata": {},
   "outputs": [
    {
     "data": {
      "text/plain": [
       "484"
      ]
     },
     "execution_count": 20,
     "metadata": {},
     "output_type": "execute_result"
    }
   ],
   "source": [
    "len(S_Story)"
   ]
  },
  {
   "cell_type": "code",
   "execution_count": 21,
   "metadata": {},
   "outputs": [
    {
     "data": {
      "text/plain": [
       "0.4063811922753988"
      ]
     },
     "execution_count": 21,
     "metadata": {},
     "output_type": "execute_result"
    }
   ],
   "source": [
    "a = len(S_Story)/len(text)\n",
    "a"
   ]
  },
  {
   "cell_type": "code",
   "execution_count": 22,
   "metadata": {},
   "outputs": [
    {
     "name": "stdout",
     "output_type": "stream",
     "text": [
      "41% of story got included\n"
     ]
    }
   ],
   "source": [
    "print (f\"{round(a * 100)}% of story got included\")"
   ]
  }
 ],
 "metadata": {
  "kernelspec": {
   "display_name": "Python 3",
   "language": "python",
   "name": "python3"
  },
  "language_info": {
   "codemirror_mode": {
    "name": "ipython",
    "version": 3
   },
   "file_extension": ".py",
   "mimetype": "text/x-python",
   "name": "python",
   "nbconvert_exporter": "python",
   "pygments_lexer": "ipython3",
   "version": "3.8.5"
  }
 },
 "nbformat": 4,
 "nbformat_minor": 4
}
